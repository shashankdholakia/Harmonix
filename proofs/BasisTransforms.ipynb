{
 "cells": [
  {
   "attachments": {},
   "cell_type": "markdown",
   "id": "283c105a",
   "metadata": {},
   "source": [
    "# Introduction: Interferometry vs. photometry\n",
    "\n",
    "\n",
    "Let's say we have a spherical star whose intensity map, projected into a 2D at a specific vieweing orientation, is defined as $I(x,y)$. Finding the total brightness of the star at that orientation is a sum over the visible surface of the star: \n",
    "\n",
    " $$ F = \\iint I(x,y)dx dy $$\n",
    " \n",
    " \n",
    " This problem of fiding the disk-integrated brightness of a star--the observable quantity of photometry--has been solved in the [starry package](https://arxiv.org/abs/1810.06559) in a rather elegant way that, among other things, permits a description of the information content of photometric data. This is done first by representing the surface map of a star using [spherical harmonics](https://en.wikipedia.org/wiki/Spherical_harmonics). If the 3d surface of a star is represented using spherical harmonic coefficients $\\mathbf{y}$, then we can write the intensity map as:\n",
    " \n",
    "$$I(x,y) = \\mathbf{\\tilde{y}}^\\top(x,y) \\ \\mathbf{R} \\ \\mathbf{y}$$\n",
    "\n",
    "where $\\mathbf{\\tilde{y}}^\\top(x,y)$ is the spherical harmonic basis, $\\mathbf{R}$ is the rotation matrix into the correct viewing orientation with the viewer at $+\\infty$ along the z axis and $\\mathbf{y}$ is the vector of spherical harmonic coefficients. Because spherical harmonics form an orthonormal basis on a unit sphere, *any* map can be represented using a sufficiently high order expansion in the spherical harmonics. This makes it a natural choice to represent the surface of a star.\n",
    "\n",
    "The real achievement of starry was to find an analytic way of performing the surface integral where a star is represented using spherical harmonics. This makes it extremely fast to compute photometric observables--light curves-- as a star rotates or even as a planet occults it. \n",
    "\n",
    "In this notebook, I will attempt to show that it is possible to use the same elegant description of the surface of a star in terms of spherical harmonics to find analytic observables used in interferometry. Recall that interferometric observations record a quantity called the visibility. The van-Cittert Zernike theorem relates the intensity map of a star to its visibility using a different kind of double integral from the one for photometry--the Fourier transform:\n",
    "\n",
    "$$ V(u,v) = \\iint I(x,y) e^{i(ux + vy)} dxdy $$\n",
    "\n",
    "Where $V$ is the visibility at baseline (u,v). This integral is similar but not identical to the one from photometry, and a similar intuition should be able to help solve it. First, we must find a way to take the Fourier transform of the surface map expressed as an expansion in spherical harmonics. \n",
    "\n",
    "$$ V(u,v) = \\iint \\mathbf{\\tilde{y}}^\\top(x,y) e^{i(ux + vy)} dxdy \\ \\ \\mathbf{R} \\ \\mathbf{y}$$ \n",
    "\n",
    "where we can pull out $\\mathbf{R} \\ \\mathbf{y}$ from the integral as they do not depend on x and y. Now, we must find the Fourier transform of the spherical harmonic basis. Although this might appear difficult, I have found that half the terms in $\\mathbf{\\tilde{y}}^\\top(x,y)$ (those with l+m even) map perfectly onto a polynomial basis defined on a unit disk which has an analytic Fourier transform--the Zernikes. The other half have an analytic Fourier transform in terms of spherical Bessel functions. Let's split the spherical harmonic basis into two complementary subspaces, called the [hemispheric harmonics (HSH) and the complementary hemispheric harmonics (CHSH)](https://opg.optica.org/oe/fulltext.cfm?uri=oe-27-26-37180&id=423949):\n",
    "$$ \\mathbf{\\tilde{y}} = \\mathbf{\\tilde{y}}_{\\mathrm{HSH}} \\cup \\ \\mathbf{\\tilde{y}}_{\\mathrm{CHSH}}$$\n",
    "What we must do is find another change of basis matrix $\\mathbf{A}$ for which\n",
    "\n",
    "$$ \\mathbf{y}_{\\mathrm{HSH}} = \\mathbf{A} \\ \\mathbf{{z}} $$\n",
    "\n",
    "where $\\mathbf{\\tilde{z}}$ is the zernike basis. If we can find such a matrix $\\mathbf{A}$, we can solve the Fourier integral as follows:\n",
    "\n",
    "$$ V(u,v) =  \\left((\\mathbf{A}\\widehat{\\mathbf{\\tilde{z}}})^\\top + \\widehat{\\mathbf{\\tilde{y}}}_{\\mathrm{CHSH}}^\\top \\right)\\mathbf{R}\\mathbf{y}$$\n",
    "\n",
    "where $\\widehat{\\mathbf{\\tilde{z}}}$ is the Zernike solution vector containing Fourier transforms of each term in the Zernike basis and $\\widehat{\\mathbf{\\tilde{y}}}_{\\mathrm{CHSH}}$ is the CHSH solution vector containing Fourier transforms of each CHSH term. In practice we do not do this all in the Cartesian basis, but use $V(\\rho, \\phi)$ instead of $V(u, v)$ and $r, \\theta$ instead of $x, y$, allowing us to express the Zernike and spherical harmonic bases as separable products of Zernike polynomials and Legendre functions times cos $m \\phi$ or sin $m \\phi$ respectively. "
   ]
  },
  {
   "cell_type": "code",
   "execution_count": 2,
   "id": "deed4a9c",
   "metadata": {},
   "outputs": [
    {
     "name": "stderr",
     "output_type": "stream",
     "text": [
      "<frozen importlib._bootstrap>:228: RuntimeWarning: scipy._lib.messagestream.MessageStream size changed, may indicate binary incompatibility. Expected 56 from C header, got 64 from PyObject\n"
     ]
    }
   ],
   "source": [
    "import sympy as sp\n",
    "from sympy import symbols, sin, cos, Matrix, Eq, Rational, floor, sqrt\n",
    "from sympy import simplify, factorial, pi, binomial, factor, expand, collect, gamma\n",
    "from sympy.functions.special.tensor_functions import KroneckerDelta\n",
    "from sympy import init_printing\n",
    "import matplotlib.pyplot as plt\n",
    "import numpy as np\n",
    "from ipywidgets import *\n",
    "import pandas as pd\n",
    "from sympy import latex\n",
    "from scipy.optimize import curve_fit\n",
    "from IPython.display import display, Math"
   ]
  },
  {
   "attachments": {},
   "cell_type": "markdown",
   "id": "4fece12c",
   "metadata": {},
   "source": [
    "Lets show terms in the zernike basis $\\mathbf{\\tilde{z}}(\\rho,\\phi)$ up to N of 5:"
   ]
  },
  {
   "cell_type": "code",
   "execution_count": 3,
   "id": "b7b83dc7",
   "metadata": {},
   "outputs": [
    {
     "data": {
      "text/latex": [
       "$\\displaystyle \\left[\\begin{matrix}1\\\\r \\sin{\\left(\\theta \\right)}\\\\r \\cos{\\left(\\theta \\right)}\\\\r^{2} \\sin{\\left(2 \\theta \\right)}\\\\2 r^{2} - 1\\\\r^{2} \\cos{\\left(2 \\theta \\right)}\\\\r^{3} \\sin{\\left(3 \\theta \\right)}\\\\\\left(3 r^{3} - 2 r\\right) \\sin{\\left(\\theta \\right)}\\\\\\left(3 r^{3} - 2 r\\right) \\cos{\\left(\\theta \\right)}\\\\r^{3} \\cos{\\left(3 \\theta \\right)}\\\\r^{4} \\sin{\\left(4 \\theta \\right)}\\\\\\left(4 r^{4} - 3 r^{2}\\right) \\sin{\\left(2 \\theta \\right)}\\\\6 r^{4} - 6 r^{2} + 1\\\\\\left(4 r^{4} - 3 r^{2}\\right) \\cos{\\left(2 \\theta \\right)}\\\\r^{4} \\cos{\\left(4 \\theta \\right)}\\\\r^{5} \\sin{\\left(5 \\theta \\right)}\\\\\\left(5 r^{5} - 4 r^{3}\\right) \\sin{\\left(3 \\theta \\right)}\\\\\\left(10 r^{5} - 12 r^{3} + 3 r\\right) \\sin{\\left(\\theta \\right)}\\\\\\left(10 r^{5} - 12 r^{3} + 3 r\\right) \\cos{\\left(\\theta \\right)}\\\\\\left(5 r^{5} - 4 r^{3}\\right) \\cos{\\left(3 \\theta \\right)}\\\\r^{5} \\cos{\\left(5 \\theta \\right)}\\end{matrix}\\right]$"
      ],
      "text/plain": [
       "Matrix([\n",
       "[                                   1],\n",
       "[                        r*sin(theta)],\n",
       "[                        r*cos(theta)],\n",
       "[                   r**2*sin(2*theta)],\n",
       "[                          2*r**2 - 1],\n",
       "[                   r**2*cos(2*theta)],\n",
       "[                   r**3*sin(3*theta)],\n",
       "[           (3*r**3 - 2*r)*sin(theta)],\n",
       "[           (3*r**3 - 2*r)*cos(theta)],\n",
       "[                   r**3*cos(3*theta)],\n",
       "[                   r**4*sin(4*theta)],\n",
       "[      (4*r**4 - 3*r**2)*sin(2*theta)],\n",
       "[                 6*r**4 - 6*r**2 + 1],\n",
       "[      (4*r**4 - 3*r**2)*cos(2*theta)],\n",
       "[                   r**4*cos(4*theta)],\n",
       "[                   r**5*sin(5*theta)],\n",
       "[      (5*r**5 - 4*r**3)*sin(3*theta)],\n",
       "[(10*r**5 - 12*r**3 + 3*r)*sin(theta)],\n",
       "[(10*r**5 - 12*r**3 + 3*r)*cos(theta)],\n",
       "[      (5*r**5 - 4*r**3)*cos(3*theta)],\n",
       "[                   r**5*cos(5*theta)]])"
      ]
     },
     "execution_count": 3,
     "metadata": {},
     "output_type": "execute_result"
    }
   ],
   "source": [
    "r, theta = sp.symbols('r, theta')\n",
    "\n",
    "def zernike(j, r, theta):\n",
    "    \"\"\" returns the jth term of the zernike polynomial basis\"\"\"\n",
    "    n = int(np.ceil((-3 + np.sqrt(9 + 8 * j)) / 2))\n",
    "    m = int(2 * j - n * (n + 2))\n",
    "    res = 0\n",
    "    for s in range(0,int((n-np.abs(m))/2)+1):\n",
    "        res += Rational((-1)**s * factorial(n-s) / (factorial(s) * factorial((n+np.abs(m))/2 -s) * factorial((n-np.abs(m))/2 - s))) * r**(n-2*s)\n",
    "    if m<0:\n",
    "        return res*sin(-m*theta)\n",
    "    elif m>0:\n",
    "        return res*cos(m*theta)\n",
    "    else:\n",
    "        return res\n",
    "    \n",
    "jmax = lambda nmax: (nmax**2+3*nmax)//2\n",
    "zbasis = Matrix([zernike(j, r, theta) for j in range(jmax(5)+1)])\n",
    "zbasis\n"
   ]
  },
  {
   "attachments": {},
   "cell_type": "markdown",
   "id": "404f6e37",
   "metadata": {},
   "source": [
    "Now, let's show the hemispherical harmonic basis up to lmax of 5:\n",
    "\n",
    "**IMPORTANT** So that I can demonstrate the results compactly, I am omitting a normalization factor A(l,m) from the hemispherical harmonic basis"
   ]
  },
  {
   "cell_type": "code",
   "execution_count": 4,
   "id": "b6bdfb8a",
   "metadata": {},
   "outputs": [
    {
     "data": {
      "text/latex": [
       "$\\displaystyle \\left[\\begin{matrix}1\\\\- r \\sin{\\left(\\theta \\right)}\\\\- r \\cos{\\left(\\theta \\right)}\\\\3 r^{2} \\sin{\\left(2 \\theta \\right)}\\\\1 - \\frac{3 r^{2}}{2}\\\\3 r^{2} \\cos{\\left(2 \\theta \\right)}\\\\- 15 r^{3} \\sin{\\left(3 \\theta \\right)}\\\\- \\left(- \\frac{15 r^{3}}{2} + 6 r\\right) \\sin{\\left(\\theta \\right)}\\\\- \\left(- \\frac{15 r^{3}}{2} + 6 r\\right) \\cos{\\left(\\theta \\right)}\\\\- 15 r^{3} \\cos{\\left(3 \\theta \\right)}\\\\105 r^{4} \\sin{\\left(4 \\theta \\right)}\\\\\\left(- \\frac{105 r^{4}}{2} + 45 r^{2}\\right) \\sin{\\left(2 \\theta \\right)}\\\\\\frac{35 r^{4}}{8} - 5 r^{2} + 1\\\\\\left(- \\frac{105 r^{4}}{2} + 45 r^{2}\\right) \\cos{\\left(2 \\theta \\right)}\\\\105 r^{4} \\cos{\\left(4 \\theta \\right)}\\\\- 945 r^{5} \\sin{\\left(5 \\theta \\right)}\\\\- \\left(- \\frac{945 r^{5}}{2} + 420 r^{3}\\right) \\sin{\\left(3 \\theta \\right)}\\\\- \\left(\\frac{315 r^{5}}{8} - \\frac{105 r^{3}}{2} + 15 r\\right) \\sin{\\left(\\theta \\right)}\\\\- \\left(\\frac{315 r^{5}}{8} - \\frac{105 r^{3}}{2} + 15 r\\right) \\cos{\\left(\\theta \\right)}\\\\- \\left(- \\frac{945 r^{5}}{2} + 420 r^{3}\\right) \\cos{\\left(3 \\theta \\right)}\\\\- 945 r^{5} \\cos{\\left(5 \\theta \\right)}\\end{matrix}\\right]$"
      ],
      "text/plain": [
       "Matrix([\n",
       "[                                           1],\n",
       "[                               -r*sin(theta)],\n",
       "[                               -r*cos(theta)],\n",
       "[                         3*r**2*sin(2*theta)],\n",
       "[                                1 - 3*r**2/2],\n",
       "[                         3*r**2*cos(2*theta)],\n",
       "[                       -15*r**3*sin(3*theta)],\n",
       "[              -(-15*r**3/2 + 6*r)*sin(theta)],\n",
       "[              -(-15*r**3/2 + 6*r)*cos(theta)],\n",
       "[                       -15*r**3*cos(3*theta)],\n",
       "[                       105*r**4*sin(4*theta)],\n",
       "[        (-105*r**4/2 + 45*r**2)*sin(2*theta)],\n",
       "[                      35*r**4/8 - 5*r**2 + 1],\n",
       "[        (-105*r**4/2 + 45*r**2)*cos(2*theta)],\n",
       "[                       105*r**4*cos(4*theta)],\n",
       "[                      -945*r**5*sin(5*theta)],\n",
       "[      -(-945*r**5/2 + 420*r**3)*sin(3*theta)],\n",
       "[-(315*r**5/8 - 105*r**3/2 + 15*r)*sin(theta)],\n",
       "[-(315*r**5/8 - 105*r**3/2 + 15*r)*cos(theta)],\n",
       "[      -(-945*r**5/2 + 420*r**3)*cos(3*theta)],\n",
       "[                      -945*r**5*cos(5*theta)]])"
      ]
     },
     "execution_count": 4,
     "metadata": {},
     "output_type": "execute_result"
    }
   ],
   "source": [
    "def hsh(n, r, theta):\n",
    "    \"\"\"Returns the nth term of the hemispheric harmonic basis (half of the spherical harmonics)\n",
    "\n",
    "    Args:\n",
    "        n (int): unrolled index identical to the OSI/ANSI indexing scheme of the Zernikes\n",
    "        r (sympy variable/float): variable for the radial coordinate, can be a float or a sympy variable (?)\n",
    "\n",
    "    Returns:\n",
    "        expr: sympy expression with the nth term of the basis\n",
    "    \"\"\"\n",
    "    l = int(np.ceil((-3 + np.sqrt(9 + 8 * n)) / 2))\n",
    "    m = int(2 * n - l * (l + 2))\n",
    "    if m<0:\n",
    "        angular = sin(-m*theta)\n",
    "    elif m>0:\n",
    "        angular = cos(m*theta)\n",
    "    else:\n",
    "        angular = 1\n",
    "    m = np.abs(m)\n",
    "\n",
    "    res = 0\n",
    "    for k in range(0,l-m+1):\n",
    "        for j in range(0,int(k/2)+1):\n",
    "            res += 2**l * (gamma(Rational(l+m+k-1, 2)+1)/(factorial(k) * factorial(l-m-k) * gamma(Rational(-l+m+k-1, 2)+1))) * binomial(Rational(k,2),j) * (-1)**j * r**(2*j+m)\n",
    "    return res*angular*(-1)**(l)\n",
    "\n",
    "hshbasis = Matrix([hsh(n, r, theta) for n in range(jmax(5)+1)])\n",
    "hshbasis\n",
    "    "
   ]
  },
  {
   "attachments": {},
   "cell_type": "markdown",
   "id": "52478e05",
   "metadata": {},
   "source": [
    "Now, I define an intermediate basis, which consists of a monomial times an angular factor of either $sin$ or $cos(m \\theta)$. This basis, which I'm calling the polynomial basis, is indexed in the same way as the zernikes or hemispheric harmonics, but serves as an intermediate."
   ]
  },
  {
   "cell_type": "code",
   "execution_count": 5,
   "id": "ed4d464b",
   "metadata": {},
   "outputs": [
    {
     "data": {
      "text/latex": [
       "$\\displaystyle \\left[\\begin{matrix}1\\\\r \\sin{\\left(\\theta \\right)}\\\\r \\cos{\\left(\\theta \\right)}\\\\r^{2} \\sin{\\left(2 \\theta \\right)}\\\\r^{2}\\\\r^{2} \\cos{\\left(2 \\theta \\right)}\\\\r^{3} \\sin{\\left(3 \\theta \\right)}\\\\r^{3} \\sin{\\left(\\theta \\right)}\\\\r^{3} \\cos{\\left(\\theta \\right)}\\\\r^{3} \\cos{\\left(3 \\theta \\right)}\\\\r^{4} \\sin{\\left(4 \\theta \\right)}\\\\r^{4} \\sin{\\left(2 \\theta \\right)}\\\\r^{4}\\\\r^{4} \\cos{\\left(2 \\theta \\right)}\\\\r^{4} \\cos{\\left(4 \\theta \\right)}\\\\r^{5} \\sin{\\left(5 \\theta \\right)}\\\\r^{5} \\sin{\\left(3 \\theta \\right)}\\\\r^{5} \\sin{\\left(\\theta \\right)}\\\\r^{5} \\cos{\\left(\\theta \\right)}\\\\r^{5} \\cos{\\left(3 \\theta \\right)}\\\\r^{5} \\cos{\\left(5 \\theta \\right)}\\end{matrix}\\right]$"
      ],
      "text/plain": [
       "Matrix([\n",
       "[                1],\n",
       "[     r*sin(theta)],\n",
       "[     r*cos(theta)],\n",
       "[r**2*sin(2*theta)],\n",
       "[             r**2],\n",
       "[r**2*cos(2*theta)],\n",
       "[r**3*sin(3*theta)],\n",
       "[  r**3*sin(theta)],\n",
       "[  r**3*cos(theta)],\n",
       "[r**3*cos(3*theta)],\n",
       "[r**4*sin(4*theta)],\n",
       "[r**4*sin(2*theta)],\n",
       "[             r**4],\n",
       "[r**4*cos(2*theta)],\n",
       "[r**4*cos(4*theta)],\n",
       "[r**5*sin(5*theta)],\n",
       "[r**5*sin(3*theta)],\n",
       "[  r**5*sin(theta)],\n",
       "[  r**5*cos(theta)],\n",
       "[r**5*cos(3*theta)],\n",
       "[r**5*cos(5*theta)]])"
      ]
     },
     "execution_count": 5,
     "metadata": {},
     "output_type": "execute_result"
    }
   ],
   "source": [
    "def poly(j, r, theta):\n",
    "    \"\"\" returns the jth term of the zernike polynomial basis\"\"\"\n",
    "    n = int(np.ceil((-3 + np.sqrt(9 + 8 * j)) / 2))\n",
    "    m = int(2 * j - n * (n + 2))\n",
    "    res = r**n\n",
    "    if m<0:\n",
    "        return res*sin(-m*theta)\n",
    "    elif m>0:\n",
    "        return res*cos(m*theta)\n",
    "    else:\n",
    "        return res\n",
    "    \n",
    "jmax = lambda nmax: (nmax**2+3*nmax)//2\n",
    "polybasis = Matrix([poly(j, r, theta) for j in range(jmax(5)+1)])\n",
    "polybasis"
   ]
  },
  {
   "attachments": {},
   "cell_type": "markdown",
   "id": "d63ca794",
   "metadata": {},
   "source": [
    "## Change of basis matrix:\n",
    "\n",
    "If I can write the basis change from zernikes to the polynomial basis as $\\mathbf{A}_{\\mathrm{Z} \\rightarrow \\mathrm{P}}$, and from HSH to polynomials as $\\mathbf{A}_{\\mathrm{HSH} \\rightarrow \\mathrm{P}}$, then the full basis change is just:\n",
    "\n",
    "$$\\mathbf{A} = \\mathbf{A}_{\\mathrm{Z} \\leftarrow \\mathrm{P}} \\ \\mathbf{A}_{\\mathrm{HSH} \\rightarrow \\mathrm{P}}$$\n",
    "\n",
    "where $\\mathbf{A}_{\\mathrm{Z} \\leftarrow \\mathrm{P}} = \\mathbf{A}_{\\mathrm{Z} \\rightarrow \\mathrm{P}}^{-1}$\n",
    "\n",
    "Now lets write the code to create each of the intermediate basis change matrices $\\mathbf{A}_{\\mathrm{Z} \\rightarrow \\mathrm{P}}$ and $\\mathbf{A}_{\\mathrm{HSH} \\rightarrow \\mathrm{P}}$"
   ]
  },
  {
   "cell_type": "code",
   "execution_count": 6,
   "id": "10f5b56d",
   "metadata": {},
   "outputs": [
    {
     "data": {
      "text/latex": [
       "$\\displaystyle \\left(4 r^{4} - 3 r^{2}\\right) \\sin{\\left(2 \\theta \\right)}$"
      ],
      "text/plain": [
       "<IPython.core.display.Math object>"
      ]
     },
     "metadata": {},
     "output_type": "display_data"
    },
    {
     "data": {
      "text/latex": [
       "$\\displaystyle \\mathtt{\\text{[ 0.  0.  0. -3.  0.  0.  0.  0.  0.  0.  0.  4.  0.  0.  0.]}}$"
      ],
      "text/plain": [
       "<IPython.core.display.Math object>"
      ]
     },
     "metadata": {},
     "output_type": "display_data"
    },
    {
     "data": {
      "text/latex": [
       "$\\displaystyle - r \\cos{\\left(\\theta \\right)}$"
      ],
      "text/plain": [
       "<IPython.core.display.Math object>"
      ]
     },
     "metadata": {},
     "output_type": "display_data"
    },
    {
     "data": {
      "text/latex": [
       "$\\displaystyle \\mathtt{\\text{[ 0.  0. -1.  0.  0.  0.  0.  0.  0.  0.  0.  0.  0.  0.  0.]}}$"
      ],
      "text/plain": [
       "<IPython.core.display.Math object>"
      ]
     },
     "metadata": {},
     "output_type": "display_data"
    }
   ],
   "source": [
    "def j_to_nm(j):\n",
    "    n = int(np.ceil((-3 + np.sqrt(9 + 8 * j)) / 2))\n",
    "    m = int(2 * j - n * (n + 2))\n",
    "    return n,m\n",
    "def nm_to_j(n,m):\n",
    "    return int((n*(n+2)+m)/2)\n",
    "\n",
    "jmax = lambda nmax: (nmax**2+3*nmax)//2\n",
    "\n",
    "def z_to_p(j, jmax):\n",
    "    \"\"\" returns the jth term of the zernike polynomial basis\"\"\"\n",
    "    n,m = j_to_nm(j)\n",
    "    res = np.zeros(jmax+1)\n",
    "    for s in range(0,int((n-np.abs(m))/2)+1):\n",
    "        #this particular term of the polynomial has r^(n-2*s), that means we drop the r and instead add this to the array for n=n-2*s and m=m\n",
    "        res[nm_to_j(int(n-2*s), m)] += (-1)**s * factorial(n-s) / (factorial(s) * factorial((n+np.abs(m))/2 -s) * factorial((n-np.abs(m))/2 - s))\n",
    "    return res\n",
    "\n",
    "def hsh_to_p(n, nmax):\n",
    "    \"\"\" returns the jth term of the HSH to polynomial basis\"\"\"\n",
    "    l,m = j_to_nm(n)\n",
    "    res = np.zeros(nmax+1)\n",
    "    for k in range(0,l-np.abs(m)+1):\n",
    "        for j in range(0,int(k/2)+1):\n",
    "            #this particular term of the polynomial has r^(2*j+np.abs(m)), that means we drop the r and instead add this to the array for n=n-2*s and m=m\n",
    "            res[nm_to_j(int(2*j+np.abs(m)),m)] += (-1)**(l) * 2**l * (gamma(Rational(l+np.abs(m)+k-1, 2)+1)/(factorial(k) * factorial(l-np.abs(m)-k) * gamma(Rational(-l+np.abs(m)+k-1, 2)+1))) * binomial(Rational(k,2),j) * (-1)**j\n",
    "    return res\n",
    "    \n",
    "display(Math(latex(zernike(11, r, theta))))\n",
    "display(Math(latex(z_to_p(11,jmax(4)))))\n",
    "display(Math(latex(hsh(2, r, theta))))\n",
    "display(Math(latex(hsh_to_p(2,jmax(4)))))"
   ]
  },
  {
   "cell_type": "code",
   "execution_count": 7,
   "id": "a5df78b9",
   "metadata": {},
   "outputs": [
    {
     "data": {
      "text/latex": [
       "$\\displaystyle \\left[\\begin{array}{ccccccccccccccccccccc}1.0 & 0 & 0 & 0 & 0 & 0 & 0 & 0 & 0 & 0 & 0 & 0 & 0 & 0 & 0 & 0 & 0 & 0 & 0 & 0 & 0\\\\0 & 1.0 & 0 & 0 & 0 & 0 & 0 & 0 & 0 & 0 & 0 & 0 & 0 & 0 & 0 & 0 & 0 & 0 & 0 & 0 & 0\\\\0 & 0 & 1.0 & 0 & 0 & 0 & 0 & 0 & 0 & 0 & 0 & 0 & 0 & 0 & 0 & 0 & 0 & 0 & 0 & 0 & 0\\\\0 & 0 & 0 & 1.0 & 0 & 0 & 0 & 0 & 0 & 0 & 0 & 0 & 0 & 0 & 0 & 0 & 0 & 0 & 0 & 0 & 0\\\\-1.0 & 0 & 0 & 0 & 2.0 & 0 & 0 & 0 & 0 & 0 & 0 & 0 & 0 & 0 & 0 & 0 & 0 & 0 & 0 & 0 & 0\\\\0 & 0 & 0 & 0 & 0 & 1.0 & 0 & 0 & 0 & 0 & 0 & 0 & 0 & 0 & 0 & 0 & 0 & 0 & 0 & 0 & 0\\\\0 & 0 & 0 & 0 & 0 & 0 & 1.0 & 0 & 0 & 0 & 0 & 0 & 0 & 0 & 0 & 0 & 0 & 0 & 0 & 0 & 0\\\\0 & -2.0 & 0 & 0 & 0 & 0 & 0 & 3.0 & 0 & 0 & 0 & 0 & 0 & 0 & 0 & 0 & 0 & 0 & 0 & 0 & 0\\\\0 & 0 & -2.0 & 0 & 0 & 0 & 0 & 0 & 3.0 & 0 & 0 & 0 & 0 & 0 & 0 & 0 & 0 & 0 & 0 & 0 & 0\\\\0 & 0 & 0 & 0 & 0 & 0 & 0 & 0 & 0 & 1.0 & 0 & 0 & 0 & 0 & 0 & 0 & 0 & 0 & 0 & 0 & 0\\\\0 & 0 & 0 & 0 & 0 & 0 & 0 & 0 & 0 & 0 & 1.0 & 0 & 0 & 0 & 0 & 0 & 0 & 0 & 0 & 0 & 0\\\\0 & 0 & 0 & -3.0 & 0 & 0 & 0 & 0 & 0 & 0 & 0 & 4.0 & 0 & 0 & 0 & 0 & 0 & 0 & 0 & 0 & 0\\\\1.0 & 0 & 0 & 0 & -6.0 & 0 & 0 & 0 & 0 & 0 & 0 & 0 & 6.0 & 0 & 0 & 0 & 0 & 0 & 0 & 0 & 0\\\\0 & 0 & 0 & 0 & 0 & -3.0 & 0 & 0 & 0 & 0 & 0 & 0 & 0 & 4.0 & 0 & 0 & 0 & 0 & 0 & 0 & 0\\\\0 & 0 & 0 & 0 & 0 & 0 & 0 & 0 & 0 & 0 & 0 & 0 & 0 & 0 & 1.0 & 0 & 0 & 0 & 0 & 0 & 0\\\\0 & 0 & 0 & 0 & 0 & 0 & 0 & 0 & 0 & 0 & 0 & 0 & 0 & 0 & 0 & 1.0 & 0 & 0 & 0 & 0 & 0\\\\0 & 0 & 0 & 0 & 0 & 0 & -4.0 & 0 & 0 & 0 & 0 & 0 & 0 & 0 & 0 & 0 & 5.0 & 0 & 0 & 0 & 0\\\\0 & 3.0 & 0 & 0 & 0 & 0 & 0 & -12.0 & 0 & 0 & 0 & 0 & 0 & 0 & 0 & 0 & 0 & 10.0 & 0 & 0 & 0\\\\0 & 0 & 3.0 & 0 & 0 & 0 & 0 & 0 & -12.0 & 0 & 0 & 0 & 0 & 0 & 0 & 0 & 0 & 0 & 10.0 & 0 & 0\\\\0 & 0 & 0 & 0 & 0 & 0 & 0 & 0 & 0 & -4.0 & 0 & 0 & 0 & 0 & 0 & 0 & 0 & 0 & 0 & 5.0 & 0\\\\0 & 0 & 0 & 0 & 0 & 0 & 0 & 0 & 0 & 0 & 0 & 0 & 0 & 0 & 0 & 0 & 0 & 0 & 0 & 0 & 1.0\\end{array}\\right]$"
      ],
      "text/plain": [
       "<IPython.core.display.Math object>"
      ]
     },
     "metadata": {},
     "output_type": "display_data"
    },
    {
     "data": {
      "text/latex": [
       "$\\displaystyle \\left[\\begin{array}{ccccccccccccccccccccc}1.0 & 0 & 0 & 0 & 0 & 0 & 0 & 0 & 0 & 0 & 0 & 0 & 0 & 0 & 0 & 0 & 0 & 0 & 0 & 0 & 0\\\\0 & -1.0 & 0 & 0 & 0 & 0 & 0 & 0 & 0 & 0 & 0 & 0 & 0 & 0 & 0 & 0 & 0 & 0 & 0 & 0 & 0\\\\0 & 0 & -1.0 & 0 & 0 & 0 & 0 & 0 & 0 & 0 & 0 & 0 & 0 & 0 & 0 & 0 & 0 & 0 & 0 & 0 & 0\\\\0 & 0 & 0 & 3.0 & 0 & 0 & 0 & 0 & 0 & 0 & 0 & 0 & 0 & 0 & 0 & 0 & 0 & 0 & 0 & 0 & 0\\\\1.0 & 0 & 0 & 0 & -1.5 & 0 & 0 & 0 & 0 & 0 & 0 & 0 & 0 & 0 & 0 & 0 & 0 & 0 & 0 & 0 & 0\\\\0 & 0 & 0 & 0 & 0 & 3.0 & 0 & 0 & 0 & 0 & 0 & 0 & 0 & 0 & 0 & 0 & 0 & 0 & 0 & 0 & 0\\\\0 & 0 & 0 & 0 & 0 & 0 & -15.0 & 0 & 0 & 0 & 0 & 0 & 0 & 0 & 0 & 0 & 0 & 0 & 0 & 0 & 0\\\\0 & -6.0 & 0 & 0 & 0 & 0 & 0 & 7.5 & 0 & 0 & 0 & 0 & 0 & 0 & 0 & 0 & 0 & 0 & 0 & 0 & 0\\\\0 & 0 & -6.0 & 0 & 0 & 0 & 0 & 0 & 7.5 & 0 & 0 & 0 & 0 & 0 & 0 & 0 & 0 & 0 & 0 & 0 & 0\\\\0 & 0 & 0 & 0 & 0 & 0 & 0 & 0 & 0 & -15.0 & 0 & 0 & 0 & 0 & 0 & 0 & 0 & 0 & 0 & 0 & 0\\\\0 & 0 & 0 & 0 & 0 & 0 & 0 & 0 & 0 & 0 & 105.0 & 0 & 0 & 0 & 0 & 0 & 0 & 0 & 0 & 0 & 0\\\\0 & 0 & 0 & 45.0 & 0 & 0 & 0 & 0 & 0 & 0 & 0 & -52.5 & 0 & 0 & 0 & 0 & 0 & 0 & 0 & 0 & 0\\\\1.0 & 0 & 0 & 0 & -5.0 & 0 & 0 & 0 & 0 & 0 & 0 & 0 & 4.375 & 0 & 0 & 0 & 0 & 0 & 0 & 0 & 0\\\\0 & 0 & 0 & 0 & 0 & 45.0 & 0 & 0 & 0 & 0 & 0 & 0 & 0 & -52.5 & 0 & 0 & 0 & 0 & 0 & 0 & 0\\\\0 & 0 & 0 & 0 & 0 & 0 & 0 & 0 & 0 & 0 & 0 & 0 & 0 & 0 & 105.0 & 0 & 0 & 0 & 0 & 0 & 0\\\\0 & 0 & 0 & 0 & 0 & 0 & 0 & 0 & 0 & 0 & 0 & 0 & 0 & 0 & 0 & -945.0 & 0 & 0 & 0 & 0 & 0\\\\0 & 0 & 0 & 0 & 0 & 0 & -420.0 & 0 & 0 & 0 & 0 & 0 & 0 & 0 & 0 & 0 & 472.5 & 0 & 0 & 0 & 0\\\\0 & -15.0 & 0 & 0 & 0 & 0 & 0 & 52.5 & 0 & 0 & 0 & 0 & 0 & 0 & 0 & 0 & 0 & -39.375 & 0 & 0 & 0\\\\0 & 0 & -15.0 & 0 & 0 & 0 & 0 & 0 & 52.5 & 0 & 0 & 0 & 0 & 0 & 0 & 0 & 0 & 0 & -39.375 & 0 & 0\\\\0 & 0 & 0 & 0 & 0 & 0 & 0 & 0 & 0 & -420.0 & 0 & 0 & 0 & 0 & 0 & 0 & 0 & 0 & 0 & 472.5 & 0\\\\0 & 0 & 0 & 0 & 0 & 0 & 0 & 0 & 0 & 0 & 0 & 0 & 0 & 0 & 0 & 0 & 0 & 0 & 0 & 0 & -945.0\\end{array}\\right]$"
      ],
      "text/plain": [
       "<IPython.core.display.Math object>"
      ]
     },
     "metadata": {},
     "output_type": "display_data"
    }
   ],
   "source": [
    "def A_z_to_p(jmax):\n",
    "    A = np.zeros((jmax+1,jmax+1))\n",
    "    for j in range(jmax+1):\n",
    "        A[j] = z_to_p(j, jmax)\n",
    "    return A\n",
    "\n",
    "def A_hsh_to_p(jmax):\n",
    "    A = np.zeros((jmax+1,jmax+1))\n",
    "    for j in range(jmax+1):\n",
    "        A[j] = hsh_to_p(j, jmax)\n",
    "    return A\n",
    "\n",
    "display(Math(latex(Matrix(A_z_to_p(jmax(5))))))\n",
    "\n",
    "display(Math(latex(Matrix(A_hsh_to_p(jmax(5))))))"
   ]
  },
  {
   "attachments": {},
   "cell_type": "markdown",
   "id": "e03f004c",
   "metadata": {},
   "source": [
    "### Now, we can put together the final matrix A!"
   ]
  },
  {
   "cell_type": "code",
   "execution_count": 8,
   "id": "f8d10d00",
   "metadata": {},
   "outputs": [
    {
     "data": {
      "text/latex": [
       "$\\displaystyle - \\left(- \\frac{15 r^{3}}{2} + 6 r\\right) \\sin{\\left(\\theta \\right)}$"
      ],
      "text/plain": [
       "<IPython.core.display.Math object>"
      ]
     },
     "metadata": {},
     "output_type": "display_data"
    },
    {
     "data": {
      "text/latex": [
       "$\\displaystyle \\left[\\begin{array}{ccccccccccccccccccccc}1.0 & 0 & 0 & 0 & 0.25 & 0 & 0 & 0 & 0 & 0 & 0 & 0 & -0.0416666666666665 & 0 & 0 & 0 & 0 & 0 & 0 & 0 & 0\\\\0 & -1.0 & 0 & 0 & 0 & 0 & 0 & -1.0 & 0 & 0 & 0 & 0 & 0 & 0 & 0 & 0 & 0 & 0.3125 & 0 & 0 & 0\\\\0 & 0 & -1.0 & 0 & 0 & 0 & 0 & 0 & -1.0 & 0 & 0 & 0 & 0 & 0 & 0 & 0 & 0 & 0 & 0.3125 & 0 & 0\\\\0 & 0 & 0 & 3.0 & 0 & 0 & 0 & 0 & 0 & 0 & 0 & 5.625 & 0 & 0 & 0 & 0 & 0 & 0 & 0 & 0 & 0\\\\0 & 0 & 0 & 0 & -0.75 & 0 & 0 & 0 & 0 & 0 & 0 & 0 & -0.3125 & 0 & 0 & 0 & 0 & 0 & 0 & 0 & 0\\\\0 & 0 & 0 & 0 & 0 & 3.0 & 0 & 0 & 0 & 0 & 0 & 0 & 0 & 5.625 & 0 & 0 & 0 & 0 & 0 & 0 & 0\\\\0 & 0 & 0 & 0 & 0 & 0 & -15.0 & 0 & 0 & 0 & 0 & 0 & 0 & 0 & 0 & 0 & -42.0 & 0 & 0 & 0 & 0\\\\0 & 0 & 0 & 0 & 0 & 0 & 0 & 2.5 & 0 & 0 & 0 & 0 & 0 & 0 & 0 & 0 & 0 & 1.75 & 0 & 0 & 0\\\\0 & 0 & 7.40148683083438 \\cdot 10^{-17} & 0 & 0 & 0 & 0 & 0 & 2.5 & 0 & 0 & 0 & 0 & 0 & 0 & 0 & 0 & 0 & 1.75 & 0 & 0\\\\0 & 0 & 0 & 0 & 0 & 0 & 0 & 0 & 0 & -15.0 & 0 & 0 & 0 & 0 & 0 & 0 & 0 & 0 & 0 & -42.0 & 0\\\\0 & 0 & 0 & 0 & 0 & 0 & 0 & 0 & 0 & 0 & 105.0 & 0 & 0 & 0 & 0 & 0 & 0 & 0 & 0 & 0 & 0\\\\0 & 0 & 0 & 0 & 0 & 0 & 0 & 0 & 0 & 0 & 0 & -13.125 & 0 & 0 & 0 & 0 & 0 & 0 & 0 & 0 & 0\\\\0 & 0 & 0 & 0 & 0 & 0 & 0 & 0 & 0 & 0 & 0 & 0 & 0.729166666666667 & 0 & 0 & 0 & 0 & 0 & 0 & 0 & 0\\\\0 & 0 & 0 & 0 & 0 & 0 & 0 & 0 & 0 & 0 & 0 & 0 & 0 & -13.125 & 0 & 0 & 0 & 0 & 0 & 0 & 0\\\\0 & 0 & 0 & 0 & 0 & 0 & 0 & 0 & 0 & 0 & 0 & 0 & 0 & 0 & 105.0 & 0 & 0 & 0 & 0 & 0 & 0\\\\0 & 0 & 0 & 0 & 0 & 0 & 0 & 0 & 0 & 0 & 0 & 0 & 0 & 0 & 0 & -945.0 & 0 & 0 & 0 & 0 & 0\\\\0 & 0 & 0 & 0 & 0 & 0 & 0 & 0 & 0 & 0 & 0 & 0 & 0 & 0 & 0 & 0 & 94.5 & 0 & 0 & 0 & 0\\\\0 & 0 & 0 & 0 & 0 & 0 & 0 & 0 & 0 & 0 & 0 & 0 & 0 & 0 & 0 & 0 & 0 & -3.9375 & 0 & 0 & 0\\\\0 & 0 & 0 & 0 & 0 & 0 & 0 & 0 & 0 & 0 & 0 & 0 & 0 & 0 & 0 & 0 & 0 & 0 & -3.9375 & 0 & 0\\\\0 & 0 & 0 & 0 & 0 & 0 & 0 & 0 & 0 & 0 & 0 & 0 & 0 & 0 & 0 & 0 & 0 & 0 & 0 & 94.5 & 0\\\\0 & 0 & 0 & 0 & 0 & 0 & 0 & 0 & 0 & 0 & 0 & 0 & 0 & 0 & 0 & 0 & 0 & 0 & 0 & 0 & -945.0\\end{array}\\right]\\left[\\begin{matrix}0\\\\0\\\\0\\\\0\\\\0\\\\0\\\\0\\\\1.0\\\\0\\\\0\\\\0\\\\0\\\\0\\\\0\\\\0\\\\0\\\\0\\\\0\\\\0\\\\0\\\\0\\end{matrix}\\right]=\\left[\\begin{matrix}0\\\\-1.0\\\\0\\\\0\\\\0\\\\0\\\\0\\\\2.5\\\\0\\\\0\\\\0\\\\0\\\\0\\\\0\\\\0\\\\0\\\\0\\\\0\\\\0\\\\0\\\\0\\end{matrix}\\right]$"
      ],
      "text/plain": [
       "<IPython.core.display.Math object>"
      ]
     },
     "metadata": {},
     "output_type": "display_data"
    },
    {
     "data": {
      "text/latex": [
       "$\\displaystyle \\left[\\begin{matrix}r \\left(7.5 r^{2} - 6.0\\right) \\sin{\\left(\\theta \\right)}\\end{matrix}\\right]$"
      ],
      "text/plain": [
       "<IPython.core.display.Math object>"
      ]
     },
     "metadata": {},
     "output_type": "display_data"
    }
   ],
   "source": [
    "display(Math(latex(hsh(7, r, theta))))\n",
    "zbasis = Matrix([zernike(j, r, theta) for j in range(jmax(5)+1)])\n",
    "hshbasis = Matrix([hsh(j, r, theta) for j in range(jmax(5)+1)])\n",
    "hsh_vector = np.zeros(jmax(5)+1)\n",
    "hsh_vector[7] = 1\n",
    "A = Matrix(np.linalg.inv(A_z_to_p(jmax(5)))).T*Matrix(A_hsh_to_p(jmax(5))).T\n",
    "display(Math(latex(A)+latex(Matrix(hsh_vector))+\"=\"+latex(A*Matrix(hsh_vector))))\n",
    "display(Math(latex(sp.simplify((A*Matrix(hsh_vector)).T*zbasis))))"
   ]
  }
 ],
 "metadata": {
  "kernelspec": {
   "display_name": "Python 3 (ipykernel)",
   "language": "python",
   "name": "python3"
  },
  "language_info": {
   "codemirror_mode": {
    "name": "ipython",
    "version": 3
   },
   "file_extension": ".py",
   "mimetype": "text/x-python",
   "name": "python",
   "nbconvert_exporter": "python",
   "pygments_lexer": "ipython3",
   "version": "3.9.15"
  }
 },
 "nbformat": 4,
 "nbformat_minor": 5
}
