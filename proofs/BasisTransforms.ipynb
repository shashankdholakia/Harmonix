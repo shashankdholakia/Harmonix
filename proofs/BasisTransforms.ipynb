{
 "cells": [
  {
   "attachments": {},
   "cell_type": "markdown",
   "id": "283c105a",
   "metadata": {},
   "source": [
    "# Introduction: Interferometry vs. photometry\n",
    "\n",
    "\n",
    "Let's say we have a spherical star whose intensity map, projected into a 2D at a specific vieweing orientation, is defined as $I(x,y)$. Finding the total brightness of the star at that orientation is a sum over the visible surface of the star: \n",
    "\n",
    " $$ F = \\iint I(x,y)dx dy $$\n",
    " \n",
    " \n",
    " This problem of fiding the disk-integrated brightness of a star--the observable quantity of photometry--has been solved in the [starry package](https://arxiv.org/abs/1810.06559) in a rather elegant way that, among other things, permits a description of the information content of photometric data. This is done first by representing the surface map of a star using [spherical harmonics](https://en.wikipedia.org/wiki/Spherical_harmonics). If the 3d surface of a star is represented using spherical harmonic coefficients $\\mathbf{y}$, then we can write the intensity map as:\n",
    " \n",
    "$$I(x,y) = \\mathbf{\\tilde{y}}^\\top(x,y) \\ \\mathbf{R} \\ \\mathbf{y}$$\n",
    "\n",
    "where $\\mathbf{\\tilde{y}}^\\top(x,y)$ is the spherical harmonic basis, $\\mathbf{R}$ is the rotation matrix into the correct viewing orientation with the viewer at $+\\infty$ along the z axis and $\\mathbf{y}$ is the vector of spherical harmonic coefficients. Because spherical harmonics form an orthonormal basis on a unit sphere, *any* map can be represented using a sufficiently high order expansion in the spherical harmonics. This makes it a natural choice to represent the surface of a star.\n",
    "\n",
    "The real achievement of starry was to find an analytic way of performing the surface integral where a star is represented using spherical harmonics. This makes it extremely fast to compute photometric observables--light curves-- as a star rotates or even as a planet occults it. \n",
    "\n",
    "In this notebook, I will attempt to show that it is possible to use the same elegant description of the surface of a star in terms of spherical harmonics to find analytic observables used in interferometry. Recall that interferometric observations record a quantity called the visibility. The van-Cittert Zernike theorem relates the intensity map of a star to its visibility using a different kind of double integral from the one for photometry--the Fourier transform:\n",
    "\n",
    "$$ V(u,v) = \\iint I(x,y) e^{i(ux + vy)} dxdy $$\n",
    "\n",
    "Where $V$ is the visibility at baseline (u,v). This integral is similar but not identical to the one from photometry, and a similar intuition should be able to help solve it. First, we must find a way to take the Fourier transform of the surface map expressed as an expansion in spherical harmonics. \n",
    "\n",
    "$$ V(u,v) = \\iint \\mathbf{\\tilde{y}}^\\top(x,y) e^{i(ux + vy)} dxdy \\ \\ \\mathbf{R} \\ \\mathbf{y}$$ \n",
    "\n",
    "where we can pull out $\\mathbf{R} \\ \\mathbf{y}$ from the integral as they do not depend on x and y. Now, we must find the Fourier transform of the spherical harmonic basis. Although this might appear difficult, I have found that half the terms in $\\mathbf{\\tilde{y}}^\\top(x,y)$ (those with l+m even) map perfectly onto a polynomial basis defined on a unit disk which has an analytic Fourier transform--the Zernikes. The other half have an analytic Fourier transform in terms of spherical Bessel functions. Let's split the spherical harmonic basis into two complementary bases, called the [hemispheric harmonics (HSH) and the complementary hemispheric harmonics (CHSH)](https://opg.optica.org/oe/fulltext.cfm?uri=oe-27-26-37180&id=423949):\n",
    "$$ \\mathbf{\\tilde{y}} = \\mathbf{\\tilde{y}}_{\\mathrm{HSH}} + \\mathbf{\\tilde{y}}_{\\mathrm{CHSH}}$$\n",
    "What we must do is find another change of basis matrix $\\mathbf{A}$ for which\n",
    "\n",
    "$$ \\mathbf{{z}} = \\mathbf{A} \\ \\mathbf{y}_{\\mathrm{HSH}} $$\n",
    "\n",
    "where $\\mathbf{\\tilde{z}}$ is the zernike basis. If we can find such a matrix $\\mathbf{A}$, we can solve the Fourier integral as follows:\n",
    "\n",
    "$$ V(u,v) =  \\left((\\mathbf{A}^{-1}\\widehat{\\mathbf{\\tilde{z}}})^\\top + \\widehat{\\mathbf{\\tilde{y}}}_{\\mathrm{CHSH}}^\\top \\right)\\mathbf{R}\\mathbf{y}$$\n",
    "\n",
    "where $\\widehat{\\mathbf{\\tilde{z}}}$ is the Zernike solution vector containing Fourier transforms of each term in the Zernike basis and $\\widehat{\\mathbf{\\tilde{y}}}_{\\mathrm{CHSH}}$ is the CHSH solution vector containing Fourier transforms of each CHSH term. In practice we do not do this all in the Cartesian basis, but use $V(\\rho, \\phi)$ instead of $V(u, v)$ and $r, \\theta$ instead of $x, y$, allowing us to express the Zernike and spherical harmonic bases as separable products of Zernike polynomials and Legendre functions times cos $m \\phi$ or sin $m \\phi$ respectively. "
   ]
  },
  {
   "cell_type": "code",
   "execution_count": 312,
   "id": "deed4a9c",
   "metadata": {},
   "outputs": [],
   "source": [
    "import sympy as sp\n",
    "from sympy import symbols, sin, cos, Matrix, Eq, Rational, floor, sqrt\n",
    "from sympy import simplify, factorial, pi, binomial, factor, expand, collect, gamma\n",
    "from sympy.functions.special.tensor_functions import KroneckerDelta\n",
    "from sympy import init_printing\n",
    "import matplotlib.pyplot as plt\n",
    "import numpy as np\n",
    "from ipywidgets import *\n",
    "import pandas as pd\n",
    "from sympy import latex\n",
    "from scipy.optimize import curve_fit\n",
    "from IPython.display import display, Math\n",
    "from hswfs import zernike"
   ]
  },
  {
   "attachments": {},
   "cell_type": "markdown",
   "id": "4fece12c",
   "metadata": {},
   "source": [
    "Lets show terms in the zernike basis $\\mathbf{\\tilde{z}}(\\rho,\\phi)$ up to N of 5:"
   ]
  },
  {
   "cell_type": "code",
   "execution_count": 313,
   "id": "b7b83dc7",
   "metadata": {},
   "outputs": [
    {
     "data": {
      "text/latex": [
       "$\\displaystyle \\left[\\begin{matrix}1\\\\0\\\\r\\\\0\\\\2 r^{2} - 1\\\\r^{2}\\\\0\\\\0\\\\3 r^{3} - 2 r\\\\r^{3}\\\\0\\\\0\\\\6 r^{4} - 6 r^{2} + 1\\\\4 r^{4} - 3 r^{2}\\\\r^{4}\\\\0\\\\0\\\\0\\\\10 r^{5} - 12 r^{3} + 3 r\\\\5 r^{5} - 4 r^{3}\\\\r^{5}\\end{matrix}\\right]$"
      ],
      "text/plain": [
       "Matrix([\n",
       "[                      1],\n",
       "[                      0],\n",
       "[                      r],\n",
       "[                      0],\n",
       "[             2*r**2 - 1],\n",
       "[                   r**2],\n",
       "[                      0],\n",
       "[                      0],\n",
       "[           3*r**3 - 2*r],\n",
       "[                   r**3],\n",
       "[                      0],\n",
       "[                      0],\n",
       "[    6*r**4 - 6*r**2 + 1],\n",
       "[        4*r**4 - 3*r**2],\n",
       "[                   r**4],\n",
       "[                      0],\n",
       "[                      0],\n",
       "[                      0],\n",
       "[10*r**5 - 12*r**3 + 3*r],\n",
       "[        5*r**5 - 4*r**3],\n",
       "[                   r**5]])"
      ]
     },
     "execution_count": 313,
     "metadata": {},
     "output_type": "execute_result"
    }
   ],
   "source": [
    "r, theta = sp.symbols('r, theta')\n",
    "\n",
    "def zpoly(j, r):\n",
    "    \"\"\" returns the jth term of the zernike polynomial basis\"\"\"\n",
    "    n = int(np.ceil((-3 + np.sqrt(9 + 8 * j)) / 2))\n",
    "    m = int(2 * j - n * (n + 2))\n",
    "    res = 0\n",
    "    for s in range(0,int((n-np.abs(m))/2)+1):\n",
    "        res += Rational((-1)**s * factorial(n-s) / (factorial(s) * factorial((n+np.abs(m))/2 -s) * factorial((n-np.abs(m))/2 - s))) * r**(n-2*s)\n",
    "    if m<0:\n",
    "        return res*0\n",
    "    elif m>0:\n",
    "        return res\n",
    "    else:\n",
    "        return res\n",
    "    \n",
    "jmax = lambda nmax: (nmax**2+3*nmax)//2\n",
    "zbasis = Matrix([zpoly(j, r) for j in range(jmax(5)+1)])\n",
    "zbasis\n"
   ]
  },
  {
   "attachments": {},
   "cell_type": "markdown",
   "id": "404f6e37",
   "metadata": {},
   "source": [
    "Now, let's show the spherical harmonic basis up to lmax of 5:"
   ]
  },
  {
   "cell_type": "code",
   "execution_count": 314,
   "id": "b6bdfb8a",
   "metadata": {},
   "outputs": [
    {
     "data": {
      "text/latex": [
       "$\\displaystyle \\left[\\begin{matrix}1\\\\0\\\\0\\\\r\\\\0\\\\0\\\\1 - \\frac{3 r^{2}}{2}\\\\0\\\\3 r^{2}\\\\0\\\\0\\\\0\\\\0\\\\- \\frac{15 r^{3}}{2} + 6 r\\\\0\\\\15 r^{3}\\\\0\\\\0\\\\0\\\\0\\\\\\frac{35 r^{4}}{8} - 5 r^{2} + 1\\\\0\\\\- \\frac{105 r^{4}}{2} + 45 r^{2}\\\\0\\\\105 r^{4}\\\\0\\\\0\\\\0\\\\0\\\\0\\\\0\\\\\\frac{315 r^{5}}{8} - \\frac{105 r^{3}}{2} + 15 r\\\\0\\\\- \\frac{945 r^{5}}{2} + 420 r^{3}\\\\0\\\\945 r^{5}\\end{matrix}\\right]$"
      ],
      "text/plain": [
       "Matrix([\n",
       "[                             1],\n",
       "[                             0],\n",
       "[                             0],\n",
       "[                             r],\n",
       "[                             0],\n",
       "[                             0],\n",
       "[                  1 - 3*r**2/2],\n",
       "[                             0],\n",
       "[                        3*r**2],\n",
       "[                             0],\n",
       "[                             0],\n",
       "[                             0],\n",
       "[                             0],\n",
       "[              -15*r**3/2 + 6*r],\n",
       "[                             0],\n",
       "[                       15*r**3],\n",
       "[                             0],\n",
       "[                             0],\n",
       "[                             0],\n",
       "[                             0],\n",
       "[        35*r**4/8 - 5*r**2 + 1],\n",
       "[                             0],\n",
       "[         -105*r**4/2 + 45*r**2],\n",
       "[                             0],\n",
       "[                      105*r**4],\n",
       "[                             0],\n",
       "[                             0],\n",
       "[                             0],\n",
       "[                             0],\n",
       "[                             0],\n",
       "[                             0],\n",
       "[315*r**5/8 - 105*r**3/2 + 15*r],\n",
       "[                             0],\n",
       "[        -945*r**5/2 + 420*r**3],\n",
       "[                             0],\n",
       "[                      945*r**5]])"
      ]
     },
     "execution_count": 314,
     "metadata": {},
     "output_type": "execute_result"
    }
   ],
   "source": [
    "def hsh(n, r):\n",
    "    l = Rational(floor(sqrt(n)))\n",
    "    m = Rational(n - floor(sqrt(n))**2 - floor(sqrt(n)))\n",
    "    if m<0:\n",
    "        angular = 0\n",
    "    elif m>0:\n",
    "        angular = 1\n",
    "    else:\n",
    "        angular = 1\n",
    "    m = np.abs(m)\n",
    "    if (l-m)%2 != 0:\n",
    "        return 0\n",
    "        print(\"CHSH\")\n",
    "    else:\n",
    "        res = 0\n",
    "        for k in range(0,l-m+1):\n",
    "            for j in range(0,int(k/2)+1):\n",
    "                res += 2**l * (gamma(Rational(l+m+k-1, 2)+1)/(factorial(k) * factorial(l-m-k) * gamma(Rational(-l+m+k-1, 2)+1))) * binomial(Rational(k,2),j) * (-1)**j * r**(2*j+m)\n",
    "        return res*angular\n",
    "\n",
    "nmax = lambda lmax: lmax**2 + 2*lmax\n",
    "hshbasis = Matrix([hsh(n, r) for n in range(nmax(5)+1)])\n",
    "hshbasis\n",
    "    "
   ]
  },
  {
   "attachments": {},
   "cell_type": "markdown",
   "id": "d63ca794",
   "metadata": {},
   "source": [
    "## Change of basis matrix:\n",
    "\n",
    "Now lets write a single spherical harmonic in the zernike basis. Writing these vectors as the columns of a matrix for each term in the zernike basis should give us our change of basis matrix (or is it the inverse??):"
   ]
  },
  {
   "cell_type": "code",
   "execution_count": 315,
   "id": "10f5b56d",
   "metadata": {},
   "outputs": [
    {
     "data": {
      "text/latex": [
       "$\\displaystyle \\left[\\begin{matrix}1\\\\0\\\\0\\\\0\\\\0\\\\- \\frac{21}{2}\\\\0\\\\0\\\\0\\\\0\\\\0\\\\0\\\\0\\\\0\\\\\\frac{189}{8}\\\\0\\\\0\\\\0\\\\0\\\\0\\\\0\\\\0\\\\0\\\\0\\\\0\\\\0\\\\0\\\\- \\frac{231}{16}\\end{matrix}\\right]$"
      ],
      "text/plain": [
       "Matrix([\n",
       "[      1],\n",
       "[      0],\n",
       "[      0],\n",
       "[      0],\n",
       "[      0],\n",
       "[  -21/2],\n",
       "[      0],\n",
       "[      0],\n",
       "[      0],\n",
       "[      0],\n",
       "[      0],\n",
       "[      0],\n",
       "[      0],\n",
       "[      0],\n",
       "[  189/8],\n",
       "[      0],\n",
       "[      0],\n",
       "[      0],\n",
       "[      0],\n",
       "[      0],\n",
       "[      0],\n",
       "[      0],\n",
       "[      0],\n",
       "[      0],\n",
       "[      0],\n",
       "[      0],\n",
       "[      0],\n",
       "[-231/16]])"
      ]
     },
     "execution_count": 315,
     "metadata": {},
     "output_type": "execute_result"
    }
   ],
   "source": [
    "basis = Matrix([zpoly(j, r) for j in range(jmax(6)+1)]).T\n",
    "def Coefficient(expression, term):\n",
    "    \"\"\"Return the coefficient multiplying `term` in `expression`.\"\"\"\n",
    "    # Get the coefficient\n",
    "    coeff = expression.coeff(term)\n",
    "    if term==1:\n",
    "        coeff = expression.subs(r, 0)\n",
    "    # Set any non-constants in this coefficient to zero. If the coefficient\n",
    "    # is not a constant, this is not the term we are interested in!\n",
    "    coeff = coeff.subs(r, 0)\n",
    "    return coeff\n",
    "\n",
    "zernike_coeffs = Matrix([Coefficient(hsh(42, r),term) for term in basis])\n",
    "zernike_coeffs"
   ]
  },
  {
   "cell_type": "code",
   "execution_count": 316,
   "id": "0e351c8d",
   "metadata": {},
   "outputs": [
    {
     "data": {
      "text/latex": [
       "$\\displaystyle \\left[\\begin{matrix}- \\frac{231 r^{6}}{16} + \\frac{189 r^{4}}{8} - \\frac{21 r^{2}}{2} + 1\\end{matrix}\\right]$"
      ],
      "text/plain": [
       "<IPython.core.display.Math object>"
      ]
     },
     "metadata": {},
     "output_type": "display_data"
    },
    {
     "data": {
      "text/latex": [
       "$\\displaystyle - \\frac{231 r^{6}}{16} + \\frac{189 r^{4}}{8} - \\frac{21 r^{2}}{2} + 1$"
      ],
      "text/plain": [
       "<IPython.core.display.Math object>"
      ]
     },
     "metadata": {},
     "output_type": "display_data"
    }
   ],
   "source": [
    "display(Math(latex(zernike_coeffs.T*basis.T))) #basis.T because basis was already defined with a transpose above\n",
    "display(Math(latex(hsh(42, r))))"
   ]
  },
  {
   "cell_type": "code",
   "execution_count": 317,
   "id": "a5df78b9",
   "metadata": {},
   "outputs": [],
   "source": [
    "def A(lmax):\n",
    "    jmax = (lmax**2+3*lmax)//2 #the array size of the zernike basis we need\n",
    "    nmax = lmax**2 + 2*lmax #the array size of the spherical harmonic basis we need\n",
    "    res = sp.zeros(nmax+1,jmax+1)\n",
    "    basis = Matrix([zpoly(j, r) for j in range(jmax+1)]).T\n",
    "    counter=0\n",
    "    for n in range(nmax+1):\n",
    "        hsh_expr = hsh(n, r)\n",
    "        if hsh_expr==0:\n",
    "            for index, term in enumerate(basis):         \n",
    "                res[counter] = 0\n",
    "                counter +=1\n",
    "        else:\n",
    "            for index, term in enumerate(basis):\n",
    "                res[counter] = Coefficient(hsh(n, r),term)\n",
    "                counter+=1\n",
    "    return res"
   ]
  },
  {
   "attachments": {},
   "cell_type": "markdown",
   "id": "e03f004c",
   "metadata": {},
   "source": [
    "### Here's our change of basis matrix A!"
   ]
  },
  {
   "cell_type": "code",
   "execution_count": 318,
   "id": "b5d8edac",
   "metadata": {},
   "outputs": [
    {
     "data": {
      "text/latex": [
       "$\\displaystyle \\left[\\begin{array}{ccccccccccccccccccccccccc}1 & 0 & 0 & 0 & 0 & 0 & 1 & 0 & 0 & 0 & 0 & 0 & 0 & 0 & 0 & 0 & 0 & 0 & 0 & 0 & 1 & 0 & 0 & 0 & 0\\\\0 & 0 & 0 & 0 & 0 & 0 & 0 & 0 & 0 & 0 & 0 & 0 & 0 & 0 & 0 & 0 & 0 & 0 & 0 & 0 & 0 & 0 & 0 & 0 & 0\\\\0 & 0 & 0 & 1 & 0 & 0 & 0 & 0 & 0 & 0 & 0 & 0 & 0 & 6 & 0 & 0 & 0 & 0 & 0 & 0 & 0 & 0 & 0 & 0 & 0\\\\0 & 0 & 0 & 0 & 0 & 0 & 0 & 0 & 0 & 0 & 0 & 0 & 0 & 0 & 0 & 0 & 0 & 0 & 0 & 0 & 0 & 0 & 0 & 0 & 0\\\\0 & 0 & 0 & 0 & 0 & 0 & 0 & 0 & 0 & 0 & 0 & 0 & 0 & 0 & 0 & 0 & 0 & 0 & 0 & 0 & 0 & 0 & 0 & 0 & 0\\\\0 & 0 & 0 & 0 & 0 & 0 & - \\frac{3}{2} & 0 & 3 & 0 & 0 & 0 & 0 & 0 & 0 & 0 & 0 & 0 & 0 & 0 & -5 & 0 & 45 & 0 & 0\\\\0 & 0 & 0 & 0 & 0 & 0 & 0 & 0 & 0 & 0 & 0 & 0 & 0 & 0 & 0 & 0 & 0 & 0 & 0 & 0 & 0 & 0 & 0 & 0 & 0\\\\0 & 0 & 0 & 0 & 0 & 0 & 0 & 0 & 0 & 0 & 0 & 0 & 0 & 0 & 0 & 0 & 0 & 0 & 0 & 0 & 0 & 0 & 0 & 0 & 0\\\\0 & 0 & 0 & 0 & 0 & 0 & 0 & 0 & 0 & 0 & 0 & 0 & 0 & 0 & 0 & 0 & 0 & 0 & 0 & 0 & 0 & 0 & 0 & 0 & 0\\\\0 & 0 & 0 & 0 & 0 & 0 & 0 & 0 & 0 & 0 & 0 & 0 & 0 & - \\frac{15}{2} & 0 & 15 & 0 & 0 & 0 & 0 & 0 & 0 & 0 & 0 & 0\\\\0 & 0 & 0 & 0 & 0 & 0 & 0 & 0 & 0 & 0 & 0 & 0 & 0 & 0 & 0 & 0 & 0 & 0 & 0 & 0 & 0 & 0 & 0 & 0 & 0\\\\0 & 0 & 0 & 0 & 0 & 0 & 0 & 0 & 0 & 0 & 0 & 0 & 0 & 0 & 0 & 0 & 0 & 0 & 0 & 0 & 0 & 0 & 0 & 0 & 0\\\\0 & 0 & 0 & 0 & 0 & 0 & 0 & 0 & 0 & 0 & 0 & 0 & 0 & 0 & 0 & 0 & 0 & 0 & 0 & 0 & 0 & 0 & 0 & 0 & 0\\\\0 & 0 & 0 & 0 & 0 & 0 & 0 & 0 & 0 & 0 & 0 & 0 & 0 & 0 & 0 & 0 & 0 & 0 & 0 & 0 & 0 & 0 & 0 & 0 & 0\\\\0 & 0 & 0 & 0 & 0 & 0 & 0 & 0 & 0 & 0 & 0 & 0 & 0 & 0 & 0 & 0 & 0 & 0 & 0 & 0 & \\frac{35}{8} & 0 & - \\frac{105}{2} & 0 & 105\\end{array}\\right]\\left[\\begin{matrix}0\\\\0\\\\0\\\\0\\\\0\\\\0\\\\0\\\\0\\\\0\\\\0\\\\0\\\\0\\\\0\\\\1\\\\0\\\\0\\\\0\\\\0\\\\0\\\\0\\\\0\\\\0\\\\0\\\\0\\\\0\\end{matrix}\\right]=\\left[\\begin{matrix}0\\\\0\\\\6\\\\0\\\\0\\\\0\\\\0\\\\0\\\\0\\\\- \\frac{15}{2}\\\\0\\\\0\\\\0\\\\0\\\\0\\end{matrix}\\right]$"
      ],
      "text/plain": [
       "<IPython.core.display.Math object>"
      ]
     },
     "metadata": {},
     "output_type": "display_data"
    }
   ],
   "source": [
    "lmax = 4\n",
    "zernike_basis = Matrix([zpoly(j, r) for j in range(jmax(lmax)+1)]).T\n",
    "poly = Matrix([0 for j in range(nmax(lmax)+1)]).T\n",
    "poly[13]=1\n",
    "chbasis = A(lmax)\n",
    "soln = chbasis.T*poly.T\n",
    "display(Math(latex(chbasis.T)+latex(poly.T)+\"=\"+latex(soln)))"
   ]
  }
 ],
 "metadata": {
  "kernelspec": {
   "display_name": "Python 3 (ipykernel)",
   "language": "python",
   "name": "python3"
  },
  "language_info": {
   "codemirror_mode": {
    "name": "ipython",
    "version": 3
   },
   "file_extension": ".py",
   "mimetype": "text/x-python",
   "name": "python",
   "nbconvert_exporter": "python",
   "pygments_lexer": "ipython3",
   "version": "3.9.15"
  }
 },
 "nbformat": 4,
 "nbformat_minor": 5
}
